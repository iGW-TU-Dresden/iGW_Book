{
 "cells": [
  {
   "cell_type": "markdown",
   "id": "5d06d1d2-382d-484f-9d85-eda66984fe9d",
   "metadata": {},
   "source": [
    "# Ground Water Velocity"
   ]
  },
  {
   "cell_type": "markdown",
   "id": "e6ed05e9-0c14-465b-97d4-97ab8c9c128b",
   "metadata": {},
   "source": [
    "To calculate, Ground Water Velocity one of the most simple approximation that can be used is the Darcy's Law to by incorporating the parameters K, i, and A. Will enable you to model and analyze the flow of groundwater in a simplified yet effective manner displaying the flow direction and velocity ultimately."
   ]
  },
  {
   "cell_type": "markdown",
   "id": "0e4c0364-9c32-4b92-8834-10351ee1843b",
   "metadata": {},
   "source": [
    "**Darcy's Law** relates the **discharge rate** (_Q_) to measurable properties: **hydraulic conductivity** (_K_) and **hydraulic gradient** (_i_), which is the change in **hydraulic head** (_ΔH_) over a given **distance** (_Δℓ_). Mathematically, this can be expressed as: \n",
    "\n",
    " $$Q = K \\cdot i \\cdot A$$   \n",
    " $$i = \\frac{\\Delta H}{\\Delta \\ell}$$\n",
    "$\n",
    "$\n",
    "\n"
   ]
  },
  {
   "cell_type": "markdown",
   "id": "a891d655-4968-4ac5-bde6-124b01a9daf5",
   "metadata": {},
   "source": [
    "**Darcy flux** or **specific diescharge** is defined as :\n",
    "$$q = -\\frac{K \\cdot \\Delta H}{\\Delta \\ell}$$"
   ]
  },
  {
   "cell_type": "markdown",
   "id": "9a65be84-4c65-4bef-9524-0b9d418da09e",
   "metadata": {},
   "source": [
    "Finally **seepage velocity** can be calculated by:\n",
    "$$v = \\frac{q}{n_e}$$"
   ]
  },
  {
   "cell_type": "markdown",
   "id": "9775f9ae-b018-4b42-83f4-7b8ce10ccd23",
   "metadata": {},
   "source": [
    "Typically in the process of determining Ground water velocity with the Darcy Law there are Two types of problems \n",
    "- 2 Point Porblem \n",
    "- 3 Point Problem \n",
    "\n",
    "In a 2 Point problem, 2 observation wells are placed, in this type of problem the flow direction is known and using the other parameters such as  _ΔH_, _Δℓ_, _K_, _ne_ the ground water velocity is calculated from the equations listed above the folloiwng figure illustrates the two point problem. \n",
    "\n",
    "\n",
    "\n",
    "\n",
    "```{image} two_point_well.png\n",
    ":height: 300px\n",
    ":align: center\n",
    ":name: Two point Problem illustrated\n",
    "```\n",
    "\n",
    "\n",
    "In a 3 Point problem, 3 observastion wells are placed, in this the flow direction is not known and using matrix algebra the flow direction and the ground water velocity is calculated. \n",
    "\n",
    "\n",
    "\n",
    "```{image} three_point_well.png\n",
    ":height: 300px\n",
    ":align: center\n",
    ":name: Three point Problem illustrated\n",
    "```\n",
    "\n"
   ]
  },
  {
   "cell_type": "markdown",
   "id": "20cef75d",
   "metadata": {},
   "source": [
    "The three point problem is can be solved using a system of linear equationss and matrices. \n",
    "\n",
    "\n",
    "```{image} 3point_solution.png\n",
    ":height: 500px\n",
    ":align: center\n",
    ":name: Three point Problem solution\n",
    "```\n",
    "\n",
    "Acknowledgements: Devlin, J.F., 2020, Groundwater Velocity. The Groundwater Project, Guelph, Ontario, Canada.a"
   ]
  },
  {
   "cell_type": "code",
   "execution_count": 3,
   "id": "f243567e-3e6e-4531-8537-97b15d56580c",
   "metadata": {},
   "outputs": [],
   "source": [
    "import numpy as np\n",
    "import matplotlib.pyplot as plt\n",
    "# Test case for three_point function\n",
    "x = [2,3, 7]  # x coordinates\n",
    "y = [3, 7, 3]  # y coordinates\n",
    "z = [98, 100, 96] # z coordinates\n",
    "heads = [1, 1, 1]  # Heads at points 1, 2, and 3\n",
    "\n",
    " \n",
    "\n",
    "def two_point(H1,H2,L,ne,K) :\n",
    "    if H2>H1 :\n",
    "        dh=H1-H2\n",
    "    else :\n",
    "        dh=H2-H1\n",
    "    \n",
    "    q=-K*dh/L\n",
    "    v=q/ne\n",
    "    print(\"The Ground Water Velocity is:\",v)\n",
    "\n",
    "def three_point(x,y,z,heads) :\n",
    "    AT = np.array([x,y,z]) # transpose matrix\n",
    "    A = np.transpose(AT)   #orignal matrix\n",
    "    #print(x,y,z,heads)\n",
    "    ATA = np.dot(AT,A)    #matrix multiplicaion \n",
    "    ATA_1 = np.linalg.inv(ATA)   #inverse matrix\n",
    "    AT_H = np.dot(AT, heads)  # Multiply AT with head\n",
    "    result_1= np.dot(ATA_1, AT_H)  # matrix multiplication \n",
    "    angle = np.arctan(result_1[1] / result_1[0])\n",
    "    angle_in_degrees = np.degrees(angle)\n",
    "    # Extract components\n",
    "    x_component = result_1[0] / result_1[2]\n",
    "    y_component = result_1[1] / result_1[2]\n",
    "\n",
    "    # Calculate magnitude\n",
    "    magnitude = np.sqrt(x_component**2 + y_component**2)\n",
    "\n",
    "    print(\"Flow Angle in Radians: \",angle)\n",
    "    print(\"Flow and in Degrees\",angle_in_degrees)\n",
    "    print(\"Flow Velocity\",magnitude)\n",
    "# Append the first point to close the triangle\n",
    "    x.append(x[0])\n",
    "    y.append(y[0])\n",
    "\n",
    "    # Calculate centroid\n",
    "    centroid_x = np.mean(x[:-1])\n",
    "    centroid_y = np.mean(y[:-1])\n",
    "\n",
    "    # Angle in degrees (specify your angle)\n",
    "    angle_degrees = angle_in_degrees\n",
    "\n",
    "    # Convert angle to radians\n",
    "    angle_radians = np.deg2rad(angle_degrees)\n",
    "\n",
    "    # Length of line (base/4)\n",
    "    line_length = (x[2] - x[0]) / 4\n",
    "\n",
    "    # Calculate endpoint of line\n",
    "    line_endpoint_x = centroid_x + line_length * np.cos(angle_radians)\n",
    "    line_endpoint_y = centroid_y + line_length * np.sin(angle_radians)\n",
    "\n",
    "    # Calculate head length (base/16)\n",
    "    head_length = line_length / 4\n",
    "\n",
    "    # Plot triangle\n",
    "    plt.figure(figsize=(6, 6))\n",
    "    plt.plot(x, y, marker='o')\n",
    "    plt.fill(x, y, alpha=0.2)\n",
    "\n",
    "    # Annotate vertices\n",
    "    for i, txt in enumerate(z):\n",
    "        plt.annotate(txt, (x[i], y[i]), textcoords=\"offset points\", xytext=(0, 10), ha='center')\n",
    "\n",
    "    # Plot centroid\n",
    "    plt.plot(centroid_x, centroid_y, marker='x', color='red', markersize=10)\n",
    "\n",
    "    # Draw arrow\n",
    "    plt.arrow(centroid_x, centroid_y, line_endpoint_x - centroid_x, line_endpoint_y - centroid_y,\n",
    "            head_width=0.5*head_length, head_length=head_length, fc='blue', ec='blue')\n",
    "\n",
    "    plt.xlabel('X')\n",
    "    plt.ylabel('Y')\n",
    "    plt.title('Ground Water Flow direction- 3 Well Problem')\n",
    "    plt.annotate('Flow Direction',(centroid_x+min(x)/8,centroid_y))\n",
    "    plt.grid(True)\n",
    "    plt.show()\n",
    "#three_point(x, y, z, heads)\n",
    "    \n",
    "\n",
    "    \n"
   ]
  },
  {
   "cell_type": "markdown",
   "id": "5c955778",
   "metadata": {},
   "source": [
    "## Enter Data into "
   ]
  },
  {
   "cell_type": "code",
   "execution_count": 4,
   "id": "f1f302f6",
   "metadata": {},
   "outputs": [
    {
     "data": {
      "application/vnd.jupyter.widget-view+json": {
       "model_id": "b7d7fa9a1fb14f82b5d4d1710260864a",
       "version_major": 2,
       "version_minor": 0
      },
      "text/plain": [
       "VBox(children=(HBox(children=(FloatText(value=2.0, description='Well 1 X post.'), FloatText(value=3.0, descrip…"
      ]
     },
     "metadata": {},
     "output_type": "display_data"
    },
    {
     "name": "stdout",
     "output_type": "stream",
     "text": [
      "Flow Angle in Radians:  -0.9827937232473253\n",
      "Flow and in Degrees -56.309932474019995\n",
      "Flow Velocity 0.7211102550928311\n"
     ]
    },
    {
     "data": {
      "image/png": "[encoded data removed]",
      "text/plain": [
       "<Figure size 600x600 with 1 Axes>"
      ]
     },
     "metadata": {},
     "output_type": "display_data"
    }
   ],
   "source": [
    "import ipywidgets as widgets\n",
    "from IPython.display import display, clear_output\n",
    "\n",
    "# Initialize empty lists to store coordinates and heads\n",
    "x1_list = []\n",
    "y1_list = []\n",
    "z1_list = []\n",
    "heads = []\n",
    "\n",
    "# Function to run when the dropdown selection changes\n",
    "def on_dropdown_change(change):\n",
    "    global x1_list, y1_list, z1_list, heads\n",
    "    x1_list = []\n",
    "    y1_list = []\n",
    "    z1_list = []\n",
    "    heads = []\n",
    "    \n",
    "    if change.new == '2 Point Problem':\n",
    "        #clear_output(wait=True)\n",
    "        \n",
    "        head1=widgets.FloatText(value=10, description='Head 1')\n",
    "        head2=widgets.FloatText(value=20, description='Head 2')\n",
    "        distance=widgets.FloatText(value=5, description='Distance between Points')\n",
    "        ne=widgets.FloatText(value=0.6, description='ne')\n",
    "        K=widgets.FloatText(value=0.001, description='K')\n",
    "        hbox1 = widgets.HBox([head1, head2])\n",
    "        hbox2 = widgets.HBox([distance,ne,K])\n",
    "        vbox = widgets.VBox([hbox1, hbox2])\n",
    "        display(vbox)\n",
    "        # Call the two_point function with the stored values\n",
    "        two_point(head1.value, head2.value, distance.value,ne.value, K.value)\n",
    "        \n",
    "    elif change.new == '3 Point Problem':\n",
    "\n",
    "\n",
    "        # Create nine FloatText widgets\n",
    "        #print(\"Well 1 cordinates\")\n",
    "        widget1 = widgets.FloatText(value=2, description='Well 1 X post.')\n",
    "        widget2 = widgets.FloatText(value=3, description='Well 1 Y post.')\n",
    "        widget3 = widgets.FloatText(value=98, description='Well 1 Head')\n",
    "        #print(\"Well 2 cordinates\")\n",
    "        widget4 = widgets.FloatText(value=3, description='Well 2 X post.')\n",
    "        widget5 = widgets.FloatText(value=7, description='Well 2 Y post.')\n",
    "        widget6 = widgets.FloatText(value=100, description='Well 2 Head')\n",
    "        widget7 = widgets.FloatText(value=7, description='Well 3 X post.')\n",
    "        widget8 = widgets.FloatText(value=3, description='Well 3 Y post.')\n",
    "        widget9 = widgets.FloatText(value=96, description='Well 3 Head')\n",
    "\n",
    "        # Function to be called on widget change\n",
    "        def on_widget_change(change):\n",
    "            clear_output(wait=True)\n",
    "            # Create three HBox layouts to contain the widgets\n",
    "            hbox1 = widgets.HBox([widget1, widget2, widget3])\n",
    "            hbox2 = widgets.HBox([widget4, widget5, widget6])\n",
    "            hbox3 = widgets.HBox([widget7, widget8, widget9])\n",
    "\n",
    "            # Create a VBox layout to contain the three HBox layouts\n",
    "            vbox = widgets.VBox([hbox1, hbox2, hbox3])\n",
    "\n",
    "            # Display the VBox layout\n",
    "            display(vbox)\n",
    "            list_x = [widget1.value, widget4.value, widget7.value]\n",
    "            list_y = [widget2.value, widget5.value, widget8.value]\n",
    "            list_z = [widget3.value, widget6.value, widget9.value]\n",
    "            h=[1,1,1]\n",
    "            three_point(list_x,list_y,list_z,h)\n",
    "\n",
    "\n",
    "        widget1.observe(on_widget_change, 'value')\n",
    "        widget2.observe(on_widget_change, 'value')\n",
    "        widget3.observe(on_widget_change, 'value')\n",
    "        widget4.observe(on_widget_change, 'value')\n",
    "        widget5.observe(on_widget_change, 'value')\n",
    "        widget6.observe(on_widget_change, 'value')\n",
    "        widget7.observe(on_widget_change, 'value')\n",
    "        widget8.observe(on_widget_change, 'value')\n",
    "        widget9.observe(on_widget_change, 'value')\n",
    "        on_widget_change(None)\n",
    "            \n",
    "\n",
    "\n",
    "\n",
    "\n",
    "\n",
    "\n",
    "# Dropdown widget to select between 2 or 3 point problems\n",
    "dropdown = widgets.Dropdown(options=['Select', '2 Point Problem', '3 Point Problem'], description='Problem Type')\n",
    "\n",
    "# Register the function to be called when the dropdown value changes\n",
    "dropdown.observe(on_dropdown_change, names='value')\n",
    "\n",
    "# Display the dropdown\n",
    "display(dropdown)\n",
    "\n"
   ]
  }
 ],
 "metadata": {
  "kernelspec": {
   "display_name": "Python 3 (ipykernel)",
   "language": "python",
   "name": "python3"
  },
  "language_info": {
   "codemirror_mode": {
    "name": "ipython",
    "version": 3
   },
   "file_extension": ".py",
   "mimetype": "text/x-python",
   "name": "python",
   "nbconvert_exporter": "python",
   "pygments_lexer": "ipython3",
   "version": "3.11.5"
  }
 },
 "nbformat": 4,
 "nbformat_minor": 5
}