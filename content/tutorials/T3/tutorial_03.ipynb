{
 "cells": [
  {
   "cell_type": "code",
   "execution_count": null,
   "metadata": {
    "hide_input": false,
    "slideshow": {
     "slide_type": "skip"
    }
   },
   "outputs": [],
   "source": [
    "import numpy as np\n",
    "import matplotlib.pyplot as plt\n",
    "import pandas as pd \n",
    "import panel as pn\n",
    "pn.extension(\"katex\") "
   ]
  },
  {
   "cell_type": "markdown",
   "metadata": {
    "slideshow": {
     "slide_type": "slide"
    }
   },
   "source": [
    "# Darcy Law and Conductivity #\n",
    "\n",
    "_(The contents presented in this section were re-developed principally by Dr. P. K. Yadav. The original contents are from Prof. Rudolf Liedl)_\n",
    "\n",
    "+ **tutorial problems on Darcy's law and intrinsic permeability**\n",
    "\n",
    "\n",
    "+ **homework problems on Darcy's law and intrinsic permeability**\n",
    "\n",
    "\n",
    "\n",
    "### Tutorial Problems on ###\n",
    "\n",
    "+ Darcy's Law and \n",
    "+ Intrinsic Permeability"
   ]
  },
  {
   "cell_type": "markdown",
   "metadata": {
    "slideshow": {
     "slide_type": "slide"
    }
   },
   "source": [
    "### Tutorial Problem 7: Flow Direction and Hydraulic Gradient\n",
    "\n",
    "Indicate the direction of flow shown in the figure in next slides, and determine the hydraulic gradient for a Darcy column with length L = 50 cm! (Figures not to scale.)\n",
    "\n",
    "#### Tutorial Problem 7 – Solution ####\n",
    "\n",
    "**The relevant topic is covered in Lecture 04, slide 8**\n"
   ]
  },
  {
   "cell_type": "code",
   "execution_count": null,
   "metadata": {
    "hide_input": false,
    "slideshow": {
     "slide_type": "subslide"
    },
    "tags": [
     "remove-input"
    ]
   },
   "outputs": [],
   "source": [
    "png_pane = pn.pane.PNG(\"images/T03_TP7_a1.png\", width=600)\n",
    "png_pane"
   ]
  },
  {
   "cell_type": "code",
   "execution_count": null,
   "metadata": {
    "code_folding": [],
    "hide_input": false,
    "slideshow": {
     "slide_type": "-"
    }
   },
   "outputs": [],
   "source": [
    "# Image (a)\n",
    "L = 0.5 # m, length of the column\n",
    "Ea_hl = 0.2 #, m, elevation head, left \n",
    "Pa_hl = 0.1 #, m  pressure head, left\n",
    "Ea_hr = 0.2 #, m, elevation head, right\n",
    "Pa_hr = 0.3 #, m  pressure head, right\n",
    "Ha_hl = Ea_hl + Pa_hl # m, hydraulic head, left\n",
    "Ha_hr = Ea_hr + Pa_hr # m, hydraulic head, right\n",
    "DH_a = Ha_hr - Ha_hl\n",
    "H_ga = DH_a/L#, no unit, hydraulic gradient \n",
    "\n",
    "print(\"Hydraulic head LEFT: {0:1.1f}\".format(Ha_hl),\"m\"); print(\"Hydraulic head RIGHT:: {0:1.1f}\".format(Ha_hr),\"m\") \n",
    "print(\"Hydraulic Head Difference: {0:1.1f}\".format(DH_a),\"m\");print(\"Hydraulic gradient: {0:1.1f}\".format(H_ga)) \n",
    "png_pane.object = \"images/T03_TP7_a2.png\" "
   ]
  },
  {
   "cell_type": "code",
   "execution_count": null,
   "metadata": {
    "slideshow": {
     "slide_type": "subslide"
    },
    "tags": [
     "remove-input"
    ]
   },
   "outputs": [],
   "source": [
    "png_pane2 = pn.pane.PNG(\"images/T03_TP7_b1.png\", width=500)\n",
    "png_pane2 "
   ]
  },
  {
   "cell_type": "code",
   "execution_count": null,
   "metadata": {
    "code_folding": [
     0
    ]
   },
   "outputs": [],
   "source": [
    "# Image (b)\n",
    "L = 0.5 # m, length of the column\n",
    "Eb_hl = 0.2 #, m, elevation head, left \n",
    "Pb_hl = 0.1 #, m  pressure head, left\n",
    "Eb_hr = 0.05 #, m, elevation head, right\n",
    "Pb_hr = 1.3 #, m  pressure head, right\n",
    "Hb_hl = Eb_hl + Pb_hl # m, hydraulic head, left\n",
    "Hb_hr = Eb_hr + Pb_hr # m, hydraulic head, right\n",
    "DH_b = Hb_hr - Hb_hl\n",
    "H_gb = DH_b/L#, no unit, hydraulic gradient \n",
    "print(\"Hydraulic head LEFT: {0:1.1f}\".format(Hb_hl),\"m\");print(\"Hydraulic head RIGHT:: {0:1.1f}\".format(Hb_hr),\"m\") \n",
    "print(\"Hydraulic Head Difference: {0:1.1f}\".format(DH_b),\"m\");print(\"Hydraulic gradient: {0:1.1f}\".format(H_gb)) \n",
    "png_pane2.object = \"images/T03_TP7_b2.png\" "
   ]
  },
  {
   "cell_type": "code",
   "execution_count": null,
   "metadata": {
    "slideshow": {
     "slide_type": "subslide"
    },
    "tags": [
     "remove-input"
    ]
   },
   "outputs": [],
   "source": [
    "png_pane3 = pn.pane.PNG(\"images/T03_TP7_c1.png\", width=400)\n",
    "png_pane3 "
   ]
  },
  {
   "cell_type": "code",
   "execution_count": null,
   "metadata": {
    "code_folding": [
     0
    ]
   },
   "outputs": [],
   "source": [
    "# Image (c)\n",
    "L = 0.5 # m, length of the column\n",
    "Ec_hl = 0.3 #, m, elevation head, left \n",
    "Pc_hl = 0.1 #, m  pressure head, left\n",
    "Ec_hr = 0.2 #, m, elevation head, right\n",
    "Pc_hr = 0.2 #, m  pressure head, right\n",
    "Hc_hl = Ec_hl + Pc_hl # m, hydraulic head, left\n",
    "Hc_hr = Ec_hr + Pc_hr # m, hydraulic head, right\n",
    "DH_c = Hc_hr - Hc_hl\n",
    "H_gc = DH_c/L#, no unit, hydraulic gradient \n",
    "print(\"Hydraulic head LEFT: {0:1.1f}\".format(Hc_hl),\"m\");print(\"Hydraulic head RIGHT:: {0:1.1f}\".format(Hc_hr),\"m\") \n",
    "print(\"Hydraulic Head Difference: {0:1.1f}\".format(DH_c),\"m\");print(\"Hydraulic gradient: {0:1.1f}\".format(H_gc)) \n",
    "png_pane3.object = \"images/T03_TP7_c2.png\" "
   ]
  },
  {
   "cell_type": "code",
   "execution_count": null,
   "metadata": {
    "slideshow": {
     "slide_type": "subslide"
    },
    "tags": [
     "remove-input"
    ]
   },
   "outputs": [],
   "source": [
    "png_pane4 = pn.pane.PNG(\"images/T03_TP7_d1.png\", width=400)\n",
    "png_pane4 "
   ]
  },
  {
   "cell_type": "code",
   "execution_count": null,
   "metadata": {
    "code_folding": [
     0
    ]
   },
   "outputs": [],
   "source": [
    "# Image (d)\n",
    "L = 0.5 # m, length of the column\n",
    "Ed_hl = 0.3 #, m, elevation head, left \n",
    "Pd_hl = 0.1 #, m  pressure head, left\n",
    "Ed_hr = 0.2 #, m, elevation head, right\n",
    "Pd_hr = 0.1 #, m  pressure head, right\n",
    "Hd_hl = Ed_hl + Pd_hl # m, hydraulic head, left\n",
    "Hd_hr = Ed_hr + Pd_hr # m, hydraulic head, right\n",
    "DH_d = Hd_hr - Hd_hl\n",
    "H_gd = DH_d/L#, no unit, hydraulic gradient \n",
    "#output\n",
    "print(\"Hydraulic head LEFT: {0:1.1f}\".format(Hd_hl),\"m\");print(\"Hydraulic head Right:: {0:1.1f}\".format(Hd_hr),\"m\") \n",
    "print(\"Hydraulic Head Difference: {0:1.1f}\".format(DH_d),\"m\");print(\"Hydraulic gradient: {0:1.1f}\".format(H_gd)) \n",
    "png_pane4.object = \"images/T03_TP7_d2.png\" "
   ]
  },
  {
   "cell_type": "markdown",
   "metadata": {},
   "source": [
    "### Tutorial Problem 8  ###"
   ]
  },
  {
   "cell_type": "markdown",
   "metadata": {
    "slideshow": {
     "slide_type": "slide"
    },
    "tags": [
     "hide-input"
    ]
   },
   "source": [
    "The hydraulic conductivity of a fine sand sample was found to be equal to $1.36\\times 10^{-5}$ m/s in a Darcy experiment using water at a temperature of $20^\\circ$C. What is the intrinsic permeability of this sample? Give results in cm$^2$ and D.\n",
    "(density of water at $20^\\circ$C: 998.2 kg/m$^3$; dynamic viscosity of water at $20^\\circ$C: $1.0087 \\times 10^{-3}$ Pa$\\cdot$s;  1 D = $0.987\\times 10^{-12}$ m$^2$) \n",
    "\n",
    "#### Tutorial Problem 8  - Solution ####\n",
    "\n",
    "**Relevant topics are covered in Lecture 04 slides 18-20.**\n",
    "\n",
    "Relationship between hydraulic conductivity $K$ and intrinsic permeability $k$ from lecture notes:\n",
    "$$\n",
    "K_{water} = k\\cdot \\frac{\\rho_{water}\\cdot g}{\\eta_{water}}\n",
    "$$\n",
    "\n",
    "Solve for , $k$\n",
    "\n",
    "$$\n",
    "k = \\frac{\\eta_{water}\\cdot K_{water}}{\\rho_{water}\\cdot g}{}\n",
    "$$"
   ]
  },
  {
   "cell_type": "code",
   "execution_count": null,
   "metadata": {
    "slideshow": {
     "slide_type": "subslide"
    }
   },
   "outputs": [],
   "source": [
    "#Given\n",
    "Darcy = 0.987 * 10**-12 # m^2, 1D = 0.987*10^-12 m^2 \n",
    "nu_w = 1.00087*10**-3 # Pa-S dynamic viscosity of water\n",
    "K_w = 1.36*10**-5 # m/s Conductivity of water\n",
    "g = 9.81 # m/s^2 accln due to gravity\n",
    "rho_w = 998.2 # kg/m^3, density of water\n",
    "\n",
    "# Solution\n",
    "k = (nu_w*K_w)/(rho_w*g)#, m^2, permeability of water\n",
    "k_D = k/Darcy\n",
    "\n",
    "\n",
    "print(\"The permeability is {0:1.1E}\".format(k),\"m\\u00b2\")  \n",
    "print(\"The permeability in Darcy unite is: {0:1.2f}\".format(k_D),\"D\") \n",
    "\n"
   ]
  },
  {
   "cell_type": "markdown",
   "metadata": {},
   "source": [
    "### Tutorial Problem 9: Constant-Head Permeameter ###"
   ]
  },
  {
   "cell_type": "code",
   "execution_count": null,
   "metadata": {
    "code_folding": [
     0
    ],
    "slideshow": {
     "slide_type": "slide"
    },
    "tags": [
     "remove-input",
     "full-width"
    ]
   },
   "outputs": [],
   "source": [
    "## Tutorial Problem 9: Constant-Head Permeameter\n",
    "\n",
    "r1 = pn.pane.LaTeX(r\"\"\"\n",
    "(a). Derive the expression for $K$ given below.\n",
    "$$\n",
    "K = \\frac{QL}{A(h_{in}-h_{out})}\n",
    "$$\n",
    "\n",
    "(b). The hydraulic conductivity of a medium sand sample (length 15 cm, \n",
    "cross-sectional area 25 cm$^2$) is to be determined. The hydraulic head \n",
    "difference is 5 cm and a water volume of 100 cm³ pas-sed the sample during \n",
    "an experimental period of 12 min.\n",
    "<br><br>\n",
    "\n",
    "(c). How long would 100 cm$^3$ diesel (density: 0.85 g/cm$^3$, dynamic viscosity: 3.5$\\cdot 10^{-3}$ \n",
    "Pa$\\cdot$s at 20$^\\circ$C) need to pass the sample under a head difference of 5 cm (density and \n",
    "dynamic viscosity of water at 20$^\\circ$C: 998.2 kg/m$^3$ and 1.0087$\\cdot 10^{-3}$ Pa$\\cdot$s, resp.)?\n",
    "\"\"\", width=450, styles={'font-size': '12pt'}) \n",
    "spacer = pn.Spacer(width=100)\n",
    "\n",
    "r2 =pn.pane.PNG(\"images/T03_TP9.png\", width=400) \n",
    "\n",
    "pn.Row(r1,spacer, r2) "
   ]
  },
  {
   "cell_type": "code",
   "execution_count": null,
   "metadata": {
    "code_folding": [
     0
    ],
    "slideshow": {
     "slide_type": "subslide"
    },
    "tags": [
     "remove-input",
     "full-width"
    ]
   },
   "outputs": [],
   "source": [
    "### Tutorial Problem 9 – Solution ###\n",
    "\n",
    "r1 = pn.pane.LaTeX(r\"\"\" Solution Problem 9: <br>\n",
    "\n",
    "The relevant topic can be found in lecture 04, slides 15, 18-20\n",
    "<br><br>\n",
    "\n",
    "Let the reference datum be at the bottom. Then from Darcy's Law:\n",
    "$$Q= -A\\cdot K\\frac{h_{out}-h_{in}}{L}$$\n",
    "With,\n",
    "\n",
    "\n",
    "Q = discharge [L$^3$/T]<br> \n",
    "L =column length [L]<br>\n",
    "A = cross-sectional area of column [L$^2$]<br>\n",
    "K = hydraulic conductivity [L/T]<br>\n",
    "h$_{in}$ =hydraulic head at column inlet [L]<br>\n",
    "h$_{out}$ = hydraulic head at column outlet [L]<br>\n",
    "<br>\n",
    "Solve for $K$:\n",
    "$$\n",
    "K= \\frac{Q\\cdot L}{A\\cdot(h_{in}-h_{out})}\n",
    "$$\n",
    "\n",
    "If the reference level $(z = 0)$ is located at the downgradient overflow, then set $h_{out} = 0$.\n",
    "\"\"\", width= 500, styles={'font-size': '13pt'} ) \n",
    "spacer = pn.Spacer(width=100)\n",
    "\n",
    "r2 =pn.pane.PNG(\"images/T03_TP9a.png\", width=300) \n",
    "\n",
    "pn.Row(r1,spacer, r2, width=1000)    "
   ]
  },
  {
   "cell_type": "code",
   "execution_count": null,
   "metadata": {
    "code_folding": [],
    "slideshow": {
     "slide_type": "subslide"
    }
   },
   "outputs": [],
   "source": [
    "#Given (solution on 9b)\n",
    "L = 15 #cm, length of column\n",
    "A = 25 # cm^2, surface area of column\n",
    "h_diff = 5 # cm, h_in-h_out\n",
    "Q = 100/12 # cm^3/min discharge per min\n",
    "\n",
    "# Solution using derived equation in first part of the problem\n",
    "# K = QL/A(h_in- h_out)\n",
    "\n",
    "K = (Q*L)/(A*h_diff)# cm/min, required conductivity \n",
    "K_1 = K*10**-2/60 #, m/s, conductivity in m/s\n",
    "\n",
    "#output\n",
    "print(\"The conductivity in column is {0:1.2E}\".format(K),\"cm/min\") \n",
    "print(\"The conductivity in column is {0:1.2E}\".format(K_1),\"m/s \\n\") \n",
    "\n",
    "if K_1 <= 1.67*10**-4:\n",
    "    print(\"Fine to medium sand\")\n",
    "else:\n",
    "    print(\"to check further\") # to be completed later."
   ]
  },
  {
   "cell_type": "markdown",
   "metadata": {
    "slideshow": {
     "slide_type": "subslide"
    }
   },
   "source": [
    "Continue solution on 9c\n",
    "\n",
    "Discharge and Darcy's law: $Q_{water} = \\frac{V}{t_{water}}=-A\\cdot K_{water}\\cdot\\frac{\\Delta h}{L}$\n",
    "\n",
    "Solve for $t_{water}$:   $t_{water} = \\frac{V}{Q_{water}}=-\\frac{V}{A\\cdot K_{water}\\cdot\\Delta h/L} = -\\frac{V\\cdot L}{A\\cdot K_{water}\\cdot\\Delta h}$\n",
    "\n",
    "Same step for $t_{diesel}$:   $t_{diesel}  = -\\frac{V\\cdot L}{A\\cdot K_{diesel}\\cdot\\Delta h}$\n",
    "\n",
    "\n",
    "\n",
    "time ratio:$\\frac{t_{diesel}}{t_{water}} = \\frac{-\\frac{V\\cdot L}{A\\cdot K_{diesel}\\cdot\\Delta h}}{-\\frac{V\\cdot L}{A\\cdot K_{water}\\cdot\\Delta h}} = \\frac{K_{water}}{K_{diesel}}$\n",
    "\n",
    "Use relationship between conductivity $K$ and permeability $k$ from lecture notes (slides 18)\n",
    "$$\\frac{K_{water}}{K_{diesel}} = \\frac{k\\cdot \\frac{\\rho_{water}\\cdot g}{\\eta_{water}}}{k\\cdot \\frac{\\rho_{diesel}\\cdot g}{\\eta_{diesel}}} = \\frac{\\rho_{water}\\cdot\\eta_{diesel}}{\\rho_{diesel}\\cdot\\eta_{water}}$$\n",
    "\n",
    "Solve for $t_{diesel}$\n",
    " "
   ]
  },
  {
   "cell_type": "code",
   "execution_count": null,
   "metadata": {
    "code_folding": [
     0
    ],
    "slideshow": {
     "slide_type": "subslide"
    }
   },
   "outputs": [],
   "source": [
    "# Given data\n",
    "\n",
    "rho_w = 920.2 # kg/m^3, density of water at 20°C\n",
    "eta_w = 1.0087*10**-3#, Pa-S dynamic viscosity of water\n",
    "rho_d = 0.85 # g/cm^3, density of diesel at 20°C\n",
    "eta_d = 3.5*10**-3#, Pa-S dynamic viscosity of diesel\n",
    "V_d = 100 # cm^3 volume of diesel\n",
    "t_w = 12 # min, time taken by water\n",
    "\n",
    "# Calculations\n",
    "\n",
    "t_d = (rho_w*eta_d)/(rho_d*1000*eta_w)*t_w \n",
    "\n",
    "# multiplied by 1000 to convert unit g/cm^3 to kg/m^3\n",
    "\n",
    "print(\"The time required for diesel will be: {0:0.2f}\".format(t_d), \"min\") "
   ]
  },
  {
   "cell_type": "markdown",
   "metadata": {},
   "source": [
    "### Tutorial Problem 10: Falling-Head Permeameter ###"
   ]
  },
  {
   "cell_type": "code",
   "execution_count": null,
   "metadata": {
    "code_folding": [
     0
    ],
    "slideshow": {
     "slide_type": "-"
    },
    "tags": [
     "remove-input",
     "full-width"
    ]
   },
   "outputs": [],
   "source": [
    "# Tutorial Problem 10\n",
    "\n",
    "r10_1 = pn.pane.LaTeX(r\"\"\"\n",
    "$$\n",
    "K = \\frac{d_t^2 L}{d_c^2 L}\\cdot \\ln\\frac{h_{in}(0)-h_{out}}{h_{in}(t)-h_{out}}\n",
    "$$\n",
    "\"\"\", width=400, styles={'font-size': '12pt'})\n",
    "\n",
    "r10_2 = pn.pane.Markdown(\"\"\"\n",
    "1. Derive the expression for K given above.\n",
    "<br><br>\n",
    "2. The hydraulic conductivity of a fine sand sample (length 15 cm, diameter 10 cm) is to be determined. \n",
    "The hydraulic head difference at the beginning and at the end of the experiment after 528 min is 5 cm and 0.5 cm, resp. \n",
    "The inner tube diameter is 2 cm. \n",
    "\n",
    "\"\"\", width= 500, styles={'font-size': '12pt'})\n",
    "\n",
    "r10_2a = pn.pane.Markdown(\"\"\"\n",
    "### Tutorial Problem 10: Solution ###\n",
    "<br>\n",
    "**Relevant information can be found in Lecture 04, Slides 14 and 16**\n",
    "\"\"\", width= 500, styles={'font-size': '12pt'})\n",
    "\n",
    "col1 = pn.Column(r10_1, r10_2, r10_2a)\n",
    "\n",
    "r10_3 =pn.pane.PNG(\"images/T03_TP10.png\", width=350)\n",
    "spacer3 = pn.Spacer(width=50) \n",
    "pn.Row(col1, spacer3, r10_3) "
   ]
  },
  {
   "cell_type": "code",
   "execution_count": null,
   "metadata": {
    "code_folding": [
     0
    ],
    "slideshow": {
     "slide_type": "-"
    },
    "tags": [
     "remove-input",
     "full-width"
    ]
   },
   "outputs": [],
   "source": [
    "# Tutorial Problem 10: Solution\n",
    "\n",
    "r10_a1 = pn.pane.LaTeX(r\"\"\"\n",
    "Darcy's Law:\n",
    "$$\n",
    "Q(t) = -A_c \\cdot K\\cdot\\frac{h_{out} - h_{in}(t)}{L} \n",
    "$$\n",
    "\n",
    "Volumetric budget for standpipe:\n",
    "$$\n",
    "Q(t) = -\\frac{dV_t}{dt}(t) = -A_t \\cdot \\frac{dh_{in}}{dt}(t) \n",
    "$$\n",
    "with <br> \n",
    "$A_t$ = cross-sectional area of standpipe [L$^2$]<br>\n",
    "$V_t$ = water volume in standpipe [L$^3$]<br>\n",
    "<br>\n",
    "combine Darcy's law and the volumetric budget:\n",
    "$$\n",
    "-A_t \\cdot \\frac{dh_{in}}{dt}(t) =  -A_c \\cdot K\\cdot\\frac{h_{out} - h_{in}(t)}{L}\n",
    "$$\n",
    "\n",
    "solve for $dh_{in}/dt$:\n",
    "$$\n",
    "\\frac{dh_{in}}{dt} = \\frac{K}{L}\\frac{A_c}{A_t}(h_{out}-h_{in}) = \\frac{K}{L}\\bigg(\\frac{d_c}{d_t}\\bigg)^2(h_{out}-h_{in})\n",
    "$$\n",
    "\n",
    "\"\"\", styles={'font-size': '13pt'})\n",
    "r10_a2 =pn.pane.PNG(\"images/T03_TP10.png\", width=300)\n",
    "\n",
    "\n",
    "pn.Row(r10_a1, r10_a2) "
   ]
  },
  {
   "cell_type": "code",
   "execution_count": null,
   "metadata": {
    "code_folding": [
     0
    ],
    "slideshow": {
     "slide_type": "subslide"
    },
    "tags": [
     "remove-input",
     "full-width"
    ]
   },
   "outputs": [],
   "source": [
    "#\n",
    "r10_a3 = pn.pane.LaTeX(r\"\"\"\n",
    "Equation for falling head: $ \\frac{dh_{in}}{dt}  = \\frac{K}{L}\\big(\\frac{d_c}{d_t}\\big)^2(h_{out}-h_{in}) $\n",
    "<br> <br>\n",
    "This equation is an ordinary differential equation of first order. \n",
    "Providing hydraulic head $h_{in}(0)$ at the beginning of the experiment $(t = 0)$, it \n",
    "may be solved by separation of variables:\n",
    "$$\n",
    "\\frac{dh_{in}}{h_{out}-h_{in}} = \\frac{K}{L}\\bigg(\\frac{d_c}{d_t}\\bigg)^2 dt\n",
    "$$\n",
    "integrations on both sides by considering the initial condition:\n",
    "$$\n",
    "\\int_{h_{in}(0)}^{h_{in}(t)}\\frac{dh_{in}}{h_{out}-h_{in}} = \\int_0^t \\frac{K}{L}\\bigg(\\frac{d_c}{d_t}\\bigg)^2 dt = \\frac{K}{L}\\bigg(\\frac{d_c}{d_t}\\bigg)^2 \\int_0^t dt\n",
    "$$\n",
    "determine integral functions:\n",
    "$$\n",
    "\\Bigg[-\\ln(h_{out} - h_{in}) \\Bigg]_{h_{in}(0)}^{h_{in}(t)} = \\frac{K}{L}\\bigg(\\frac{d_c}{d_t}\\bigg)^2 [t]_0^t \n",
    "$$ \n",
    "insert limits of integration:\n",
    "$$\n",
    "-\\ln\\frac{h_{out}-h_{in}(t)}{h_{out}-h_{in}(0)} = \\frac{K}{L}\\bigg(\\frac{d_c}{d_t}\\bigg)^2 t \n",
    "$$\n",
    "solve for K:\n",
    "$$\n",
    "K = \\bigg(\\frac{d_c}{d_t}\\bigg)^2 \\frac{L}{t}\\ln\\frac{h_{in}(0)-h_{out}}{h_{in}(t)-h_{out}}\n",
    "$$\n",
    "\"\"\", width=600, styles={'font-size': '12pt'})\n",
    "r10_a3"
   ]
  },
  {
   "cell_type": "code",
   "execution_count": null,
   "metadata": {
    "code_folding": [],
    "slideshow": {
     "slide_type": "subslide"
    }
   },
   "outputs": [],
   "source": [
    "# Solution 9(2)\n",
    "\n",
    "L = 15 # cm, length\n",
    "L_m = L/100 # m, length\n",
    "d_c = 10 # cm, diameter column\n",
    "d_t = 2 # cm, diameter tube\n",
    "h_d0 = 5 # cm, head difference at start\n",
    "h_dt = 0.5 # cm, head difference at time t\n",
    "t = 528 # min, total time  \n",
    "t_s = 528*60 # sec, total time in seconds\n",
    "\n",
    "#solution using the developed equation \n",
    "\n",
    "K = (d_t/d_c)**2 * ((L_m)/t_s)*np.log(h_d0/h_dt)\n",
    "\n",
    "#Output\n",
    "print(\"The conductivity in column is {0:1.2E}\".format(K),\"m/s \\n\") \n",
    "\n",
    "if K < 1.67*10**-5:\n",
    "    print(\"Silt or silty sand\")\n",
    "else:\n",
    "    print(\"to check further\") # to be completed later."
   ]
  },
  {
   "cell_type": "markdown",
   "metadata": {
    "slideshow": {
     "slide_type": "slide"
    }
   },
   "source": [
    "### HOME WORK PROBLEMS ###\n",
    "\n",
    "\n",
    "**Darcy's Law and Intrinsic Permeability**\n",
    "\n",
    "_There is no obligation to solve homework problems!_\n",
    "\n",
    "**Try to submit within next 2 weeks.**\n",
    "\n",
    "\n",
    "\n",
    "\n",
    "### Homework Problem 3 ###"
   ]
  },
  {
   "cell_type": "code",
   "execution_count": null,
   "metadata": {
    "code_folding": [
     0
    ],
    "slideshow": {
     "slide_type": "slide"
    },
    "tags": [
     "remove-input",
     "full-width"
    ]
   },
   "outputs": [],
   "source": [
    "#\n",
    "r_h3a = pn.pane.Markdown(\"\"\"\n",
    "\n",
    "**A**. Derive an expression for hydraulic conductivity *_K_* for the constant-head permeameter shown in the figure.<br><br>\n",
    "**B**. The hydraulic conductivity of a sample (length 10 cm, diameter 4 cm) is to be determined. \n",
    "The water depths a<sub>1</sub> and a<sub>2</sub> equal 6 cm and 3 cm, resp. A water volume of 250 ml passed the sample during an experimental period of 36 s. <br> <br>\n",
    "**C**. Which material could be contained in the sample?\n",
    "\"\"\", width = 400, styles={'font-size': '12pt'})\n",
    "spacer2=pn.Spacer(width=50)\n",
    "\n",
    "r_h3b = pn.pane.PNG(\"images/T03_TH3.png\", width=500)\n",
    "\n",
    "pn.Row(r_h3a,spacer2, r_h3b) "
   ]
  },
  {
   "cell_type": "markdown",
   "metadata": {
    "slideshow": {
     "slide_type": "slide"
    }
   },
   "source": [
    "\n",
    "### Homework Problem 4 ###\n",
    "\n"
   ]
  },
  {
   "cell_type": "code",
   "execution_count": null,
   "metadata": {
    "code_folding": [
     0
    ],
    "tags": [
     "remove-input",
     "full-width"
    ]
   },
   "outputs": [],
   "source": [
    "#\n",
    "r_h4 = pn.pane.Markdown(\"\"\"\n",
    "A Darcy experiment is performed by a falling-head permeameter using water at 20°C. \n",
    "Length and diameter of the sample are 20 cm and 6 cm, resp. The inner tube diameter is 4 cm. \n",
    "The following data are available for the time-dependent hydraulic head difference : \n",
    "\"\"\", styles={'font-size': '12pt'})\n",
    "\n",
    "r_h4b = pn.pane.PNG(\"images/T03_TH4a.png\", width=400)\n",
    "\n",
    "r_h4c = pn.pane.Markdown(\"\"\"\n",
    "**A.** Convert times to seconds and plot the logarithm of the ratios of head differences ln(Δh(0)/Δh(t)) vs. time t. \n",
    "(Use the coordinate system on next page). <br><br>\n",
    "**B.** Determine the slope of the corresponding regression line.<br><br>\n",
    "**C.** Determine hydraulic conductivity K.<br><br>\n",
    "**D.** Determine intrinsic permeability k.<br>\n",
    "\n",
    "\"\"\", styles={'font-size': '12pt'})\n",
    "r_h4d = pn.Column(r_h4, r_h4b, r_h4c)\n",
    "r_h4e = pn.pane.PNG(\"images/T03_TP10.png\", width=400)\n",
    "spacer2=pn.Spacer(width=50)\n",
    "pn.Row(r_h4d, spacer2, r_h4e) \n"
   ]
  },
  {
   "cell_type": "code",
   "execution_count": null,
   "metadata": {
    "code_folding": [
     0
    ],
    "slideshow": {
     "slide_type": "slide"
    }
   },
   "outputs": [],
   "source": [
    "#\n",
    "fig, ax = plt.subplots(figsize=(8, 6))  \n",
    "plt.grid(axis='y', linestyle='--')   \n",
    "plt.xlim((0, 1800)); plt.ylim((0,0.7)) \n",
    "plt.xlabel(\"t(s)\", fontsize=12 )\n",
    "plt.ylabel(r\"ln($\\Delta h(0)/\\Delta h(t)$)(-)\", fontsize=12); \n"
   ]
  },
  {
   "cell_type": "code",
   "execution_count": null,
   "metadata": {},
   "outputs": [],
   "source": []
  },
  {
   "cell_type": "code",
   "execution_count": null,
   "metadata": {},
   "outputs": [],
   "source": []
  }
 ],
 "metadata": {
  "author": "me",
  "celltoolbar": "Tags",
  "hide_input": false,
  "kernel_info": {
   "name": "python3"
  },
  "kernelspec": {
   "display_name": "Python 3 (ipykernel)",
   "language": "python",
   "name": "python3"
  },
  "language_info": {
   "codemirror_mode": {
    "name": "ipython",
    "version": 3
   },
   "file_extension": ".py",
   "mimetype": "text/x-python",
   "name": "python",
   "nbconvert_exporter": "python",
   "pygments_lexer": "ipython3",
   "version": "3.10.11"
  },
  "latex_envs": {
   "LaTeX_envs_menu_present": false,
   "autoclose": false,
   "autocomplete": true,
   "bibliofile": "biblio.bib",
   "cite_by": "apalike",
   "current_citInitial": 1,
   "eqLabelWithNumbers": false,
   "eqNumInitial": 1,
   "hotkeys": {
    "equation": "Ctrl-E",
    "itemize": "Ctrl-I"
   },
   "labels_anchors": false,
   "latex_user_defs": false,
   "report_style_numbering": false,
   "user_envs_cfg": false
  },
  "nteract": {
   "version": "0.15.0"
  },
  "toc": {
   "base_numbering": 1,
   "nav_menu": {},
   "number_sections": true,
   "sideBar": true,
   "skip_h1_title": false,
   "title_cell": "Table of Contents",
   "title_sidebar": "Contents",
   "toc_cell": false,
   "toc_position": {},
   "toc_section_display": true,
   "toc_window_display": false
  },
  "varInspector": {
   "cols": {
    "lenName": 16,
    "lenType": 16,
    "lenVar": 40
   },
   "kernels_config": {
    "python": {
     "delete_cmd_postfix": "",
     "delete_cmd_prefix": "del ",
     "library": "var_list.py",
     "varRefreshCmd": "print(var_dic_list())"
    },
    "r": {
     "delete_cmd_postfix": ") ",
     "delete_cmd_prefix": "rm(",
     "library": "var_list.r",
     "varRefreshCmd": "cat(var_dic_list()) "
    }
   },
   "position": {
    "height": "386.4px",
    "left": "1161.6px",
    "right": "20px",
    "top": "120px",
    "width": "354.4px"
   },
   "rise": {
    "backimage": "logo3.png",
    "footer": "<h4></h4>",
    "header": "<h2>Groundwater, Tutorial 02, 07.11.2019</h2>"
   },
   "types_to_exclude": [
    "module",
    "function",
    "builtin_function_or_method",
    "instance",
    "_Feature"
   ],
   "window_display": false
  }
 },
 "nbformat": 4,
 "nbformat_minor": 4
}
